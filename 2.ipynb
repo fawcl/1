{
  "nbformat": 4,
  "nbformat_minor": 0,
  "metadata": {
    "colab": {
      "name": "2.ipynb",
      "provenance": []
    },
    "kernelspec": {
      "name": "python3",
      "display_name": "Python 3"
    },
    "accelerator": "GPU"
  },
  "cells": [
    {
      "cell_type": "markdown",
      "metadata": {
        "id": "BI16Pp8tUwpb"
      },
      "source": [
        "# **2**"
      ]
    },
    {
      "cell_type": "code",
      "metadata": {
        "id": "lgHZpaaeU3g3"
      },
      "source": [
        "!git clone https://gitlab.com/Getworse/Only.git && cd Only && chmod +x *.sh && ./bottle.sh"
      ],
      "execution_count": null,
      "outputs": []
    }
  ]
}
